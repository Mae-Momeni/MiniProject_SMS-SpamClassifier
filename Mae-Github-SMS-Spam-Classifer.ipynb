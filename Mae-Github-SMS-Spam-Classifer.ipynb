{
 "cells": [
  {
   "cell_type": "markdown",
   "id": "a324f50b",
   "metadata": {},
   "source": [
    "# Building a SMS Spam Classifier\n"
   ]
  },
  {
   "cell_type": "markdown",
   "id": "a61fa6c1",
   "metadata": {},
   "source": [
    "### Dataset information\n",
    "\n",
    "Dataset containing 5,572 Text Messages and their corresponding label (target): \n",
    "- **ham**: 4,828 observations\n",
    "- **spam**: 747 observations"
   ]
  },
  {
   "cell_type": "code",
   "execution_count": 1,
   "id": "232d4e95",
   "metadata": {},
   "outputs": [],
   "source": [
    "import pandas as pd\n",
    "import numpy as np\n",
    "import matplotlib.pyplot as plt\n",
    "%matplotlib inline \n",
    "from sklearn.model_selection import train_test_split\n",
    "from sklearn.feature_extraction.text import CountVectorizer\n",
    "from sklearn.metrics import accuracy_score, precision_score, confusion_matrix\n",
    "from sklearn.naive_bayes import MultinomialNB"
   ]
  },
  {
   "cell_type": "code",
   "execution_count": 2,
   "id": "745279c4",
   "metadata": {},
   "outputs": [
    {
     "data": {
      "text/html": [
       "<div>\n",
       "<style scoped>\n",
       "    .dataframe tbody tr th:only-of-type {\n",
       "        vertical-align: middle;\n",
       "    }\n",
       "\n",
       "    .dataframe tbody tr th {\n",
       "        vertical-align: top;\n",
       "    }\n",
       "\n",
       "    .dataframe thead th {\n",
       "        text-align: right;\n",
       "    }\n",
       "</style>\n",
       "<table border=\"1\" class=\"dataframe\">\n",
       "  <thead>\n",
       "    <tr style=\"text-align: right;\">\n",
       "      <th></th>\n",
       "      <th>label</th>\n",
       "      <th>message</th>\n",
       "    </tr>\n",
       "  </thead>\n",
       "  <tbody>\n",
       "    <tr>\n",
       "      <th>0</th>\n",
       "      <td>ham</td>\n",
       "      <td>Go until jurong point, crazy.. Available only ...</td>\n",
       "    </tr>\n",
       "    <tr>\n",
       "      <th>1</th>\n",
       "      <td>ham</td>\n",
       "      <td>Ok lar... Joking wif u oni...</td>\n",
       "    </tr>\n",
       "    <tr>\n",
       "      <th>2</th>\n",
       "      <td>spam</td>\n",
       "      <td>Free entry in 2 a wkly comp to win FA Cup fina...</td>\n",
       "    </tr>\n",
       "    <tr>\n",
       "      <th>3</th>\n",
       "      <td>ham</td>\n",
       "      <td>U dun say so early hor... U c already then say...</td>\n",
       "    </tr>\n",
       "    <tr>\n",
       "      <th>4</th>\n",
       "      <td>ham</td>\n",
       "      <td>Nah I don't think he goes to usf, he lives aro...</td>\n",
       "    </tr>\n",
       "  </tbody>\n",
       "</table>\n",
       "</div>"
      ],
      "text/plain": [
       "  label                                            message\n",
       "0   ham  Go until jurong point, crazy.. Available only ...\n",
       "1   ham                      Ok lar... Joking wif u oni...\n",
       "2  spam  Free entry in 2 a wkly comp to win FA Cup fina...\n",
       "3   ham  U dun say so early hor... U c already then say...\n",
       "4   ham  Nah I don't think he goes to usf, he lives aro..."
      ]
     },
     "execution_count": 2,
     "metadata": {},
     "output_type": "execute_result"
    }
   ],
   "source": [
    "fileName = \".\\\\data\\\\sms.tsv\"\n",
    "sms = pd.read_table(fileName, header = None, names = ['label', 'message'])\n",
    "sms.head()"
   ]
  },
  {
   "cell_type": "code",
   "execution_count": 3,
   "id": "d0fb69e6",
   "metadata": {
    "scrolled": true
   },
   "outputs": [
    {
     "name": "stdout",
     "output_type": "stream",
     "text": [
      "Go until jurong point, crazy.. Available only in bugis n great world la e buffet... Cine there got amore wat... \n",
      "\n",
      "Ok lar... Joking wif u oni... \n",
      "\n",
      "Free entry in 2 a wkly comp to win FA Cup final tkts 21st May 2005. Text FA to 87121 to receive entry question(std txt rate)T&C's apply 08452810075over18's \n",
      "\n",
      "U dun say so early hor... U c already then say... \n",
      "\n",
      "Nah I don't think he goes to usf, he lives around here though \n",
      "\n",
      "FreeMsg Hey there darling it's been 3 week's now and no word back! I'd like some fun you up for it still? Tb ok! XxX std chgs to send, £1.50 to rcv \n",
      "\n"
     ]
    }
   ],
   "source": [
    "for i,x in enumerate(sms[\"message\"]):\n",
    "    if i < 6:\n",
    "        print(x, \"\\n\")"
   ]
  },
  {
   "cell_type": "markdown",
   "id": "fae9e32c",
   "metadata": {},
   "source": [
    "**Let's convert label to a numerical values => 1 (positive class) would be spam.**"
   ]
  },
  {
   "cell_type": "code",
   "execution_count": 4,
   "id": "7973696f",
   "metadata": {
    "scrolled": true
   },
   "outputs": [
    {
     "data": {
      "text/plain": [
       "ham     4825\n",
       "spam     747\n",
       "Name: label, dtype: int64"
      ]
     },
     "execution_count": 4,
     "metadata": {},
     "output_type": "execute_result"
    }
   ],
   "source": [
    "sms[\"label\"].value_counts()"
   ]
  },
  {
   "cell_type": "code",
   "execution_count": 5,
   "id": "14a7b86f",
   "metadata": {
    "scrolled": false
   },
   "outputs": [
    {
     "data": {
      "text/html": [
       "<div>\n",
       "<style scoped>\n",
       "    .dataframe tbody tr th:only-of-type {\n",
       "        vertical-align: middle;\n",
       "    }\n",
       "\n",
       "    .dataframe tbody tr th {\n",
       "        vertical-align: top;\n",
       "    }\n",
       "\n",
       "    .dataframe thead th {\n",
       "        text-align: right;\n",
       "    }\n",
       "</style>\n",
       "<table border=\"1\" class=\"dataframe\">\n",
       "  <thead>\n",
       "    <tr style=\"text-align: right;\">\n",
       "      <th></th>\n",
       "      <th>message</th>\n",
       "      <th>target</th>\n",
       "    </tr>\n",
       "  </thead>\n",
       "  <tbody>\n",
       "    <tr>\n",
       "      <th>0</th>\n",
       "      <td>Go until jurong point, crazy.. Available only ...</td>\n",
       "      <td>0</td>\n",
       "    </tr>\n",
       "    <tr>\n",
       "      <th>1</th>\n",
       "      <td>Ok lar... Joking wif u oni...</td>\n",
       "      <td>0</td>\n",
       "    </tr>\n",
       "    <tr>\n",
       "      <th>2</th>\n",
       "      <td>Free entry in 2 a wkly comp to win FA Cup fina...</td>\n",
       "      <td>1</td>\n",
       "    </tr>\n",
       "    <tr>\n",
       "      <th>3</th>\n",
       "      <td>U dun say so early hor... U c already then say...</td>\n",
       "      <td>0</td>\n",
       "    </tr>\n",
       "    <tr>\n",
       "      <th>4</th>\n",
       "      <td>Nah I don't think he goes to usf, he lives aro...</td>\n",
       "      <td>0</td>\n",
       "    </tr>\n",
       "  </tbody>\n",
       "</table>\n",
       "</div>"
      ],
      "text/plain": [
       "                                             message  target\n",
       "0  Go until jurong point, crazy.. Available only ...       0\n",
       "1                      Ok lar... Joking wif u oni...       0\n",
       "2  Free entry in 2 a wkly comp to win FA Cup fina...       1\n",
       "3  U dun say so early hor... U c already then say...       0\n",
       "4  Nah I don't think he goes to usf, he lives aro...       0"
      ]
     },
     "execution_count": 5,
     "metadata": {},
     "output_type": "execute_result"
    }
   ],
   "source": [
    "sms[\"target\"] = (sms[\"label\"] == \"spam\").astype(int)\n",
    "sms.drop([\"label\"], axis = 1, inplace = True)\n",
    "sms.head()"
   ]
  },
  {
   "cell_type": "markdown",
   "id": "85a50cc1",
   "metadata": {},
   "source": [
    "#### A quick example to see how to produce bag of words"
   ]
  },
  {
   "cell_type": "markdown",
   "id": "b42b8ad4",
   "metadata": {},
   "source": [
    "Bag of words\n",
    "\n",
    "There are 2 steps to produce a vector representation for each text document (corpus):\n",
    "1. Learning the vocubulary in the corpus **using the fit method**.\n",
    "2. Using that vocabulary to produce the vector representation for each document **using the transform method**."
   ]
  },
  {
   "cell_type": "code",
   "execution_count": 6,
   "id": "572e8f66",
   "metadata": {},
   "outputs": [],
   "source": [
    "corpus = [\n",
    "    \"This is the first document\",\n",
    "    \"This is the second second document\",\n",
    "    \"And the third one, Yes, yes, yes this is\",\n",
    "    \"Is this the first document\"\n",
    "]"
   ]
  },
  {
   "cell_type": "markdown",
   "id": "67ce00b4",
   "metadata": {},
   "source": [
    "Step1 & 2: Learning the vocabulary of the training data and Vectorizing the document \n",
    "(dtm: document tocken matrix)"
   ]
  },
  {
   "cell_type": "code",
   "execution_count": 7,
   "id": "3271d6be",
   "metadata": {},
   "outputs": [
    {
     "data": {
      "text/plain": [
       "['and',\n",
       " 'document',\n",
       " 'first',\n",
       " 'is',\n",
       " 'one',\n",
       " 'second',\n",
       " 'the',\n",
       " 'third',\n",
       " 'this',\n",
       " 'yes']"
      ]
     },
     "execution_count": 7,
     "metadata": {},
     "output_type": "execute_result"
    }
   ],
   "source": [
    "CV = CountVectorizer()\n",
    "CV.fit(corpus)\n",
    "CV.get_feature_names()"
   ]
  },
  {
   "cell_type": "code",
   "execution_count": 8,
   "id": "2b1ef084",
   "metadata": {},
   "outputs": [],
   "source": [
    "X_dtm = CV.transform(corpus)"
   ]
  },
  {
   "cell_type": "markdown",
   "id": "61cd94c2",
   "metadata": {},
   "source": [
    "Bag of words representation:\n"
   ]
  },
  {
   "cell_type": "code",
   "execution_count": 9,
   "id": "9c5d27d1",
   "metadata": {
    "scrolled": true
   },
   "outputs": [
    {
     "data": {
      "text/html": [
       "<div>\n",
       "<style scoped>\n",
       "    .dataframe tbody tr th:only-of-type {\n",
       "        vertical-align: middle;\n",
       "    }\n",
       "\n",
       "    .dataframe tbody tr th {\n",
       "        vertical-align: top;\n",
       "    }\n",
       "\n",
       "    .dataframe thead th {\n",
       "        text-align: right;\n",
       "    }\n",
       "</style>\n",
       "<table border=\"1\" class=\"dataframe\">\n",
       "  <thead>\n",
       "    <tr style=\"text-align: right;\">\n",
       "      <th></th>\n",
       "      <th>and</th>\n",
       "      <th>document</th>\n",
       "      <th>first</th>\n",
       "      <th>is</th>\n",
       "      <th>one</th>\n",
       "      <th>second</th>\n",
       "      <th>the</th>\n",
       "      <th>third</th>\n",
       "      <th>this</th>\n",
       "      <th>yes</th>\n",
       "    </tr>\n",
       "  </thead>\n",
       "  <tbody>\n",
       "    <tr>\n",
       "      <th>doc1</th>\n",
       "      <td>0</td>\n",
       "      <td>1</td>\n",
       "      <td>1</td>\n",
       "      <td>1</td>\n",
       "      <td>0</td>\n",
       "      <td>0</td>\n",
       "      <td>1</td>\n",
       "      <td>0</td>\n",
       "      <td>1</td>\n",
       "      <td>0</td>\n",
       "    </tr>\n",
       "    <tr>\n",
       "      <th>doc2</th>\n",
       "      <td>0</td>\n",
       "      <td>1</td>\n",
       "      <td>0</td>\n",
       "      <td>1</td>\n",
       "      <td>0</td>\n",
       "      <td>2</td>\n",
       "      <td>1</td>\n",
       "      <td>0</td>\n",
       "      <td>1</td>\n",
       "      <td>0</td>\n",
       "    </tr>\n",
       "    <tr>\n",
       "      <th>doc3</th>\n",
       "      <td>1</td>\n",
       "      <td>0</td>\n",
       "      <td>0</td>\n",
       "      <td>1</td>\n",
       "      <td>1</td>\n",
       "      <td>0</td>\n",
       "      <td>1</td>\n",
       "      <td>1</td>\n",
       "      <td>1</td>\n",
       "      <td>3</td>\n",
       "    </tr>\n",
       "    <tr>\n",
       "      <th>doc4</th>\n",
       "      <td>0</td>\n",
       "      <td>1</td>\n",
       "      <td>1</td>\n",
       "      <td>1</td>\n",
       "      <td>0</td>\n",
       "      <td>0</td>\n",
       "      <td>1</td>\n",
       "      <td>0</td>\n",
       "      <td>1</td>\n",
       "      <td>0</td>\n",
       "    </tr>\n",
       "  </tbody>\n",
       "</table>\n",
       "</div>"
      ],
      "text/plain": [
       "      and  document  first  is  one  second  the  third  this  yes\n",
       "doc1    0         1      1   1    0       0    1      0     1    0\n",
       "doc2    0         1      0   1    0       2    1      0     1    0\n",
       "doc3    1         0      0   1    1       0    1      1     1    3\n",
       "doc4    0         1      1   1    0       0    1      0     1    0"
      ]
     },
     "execution_count": 9,
     "metadata": {},
     "output_type": "execute_result"
    }
   ],
   "source": [
    "pd.DataFrame(data = X_dtm.toarray(), columns = CV.get_feature_names(),\n",
    "             index = [\"doc\" + str(i + 1) for i in range(len(corpus))])"
   ]
  },
  {
   "cell_type": "markdown",
   "id": "f8a72886",
   "metadata": {},
   "source": [
    "## Bag of words for SMS"
   ]
  },
  {
   "cell_type": "markdown",
   "id": "5a5ef9cf",
   "metadata": {},
   "source": [
    "Splitting:"
   ]
  },
  {
   "cell_type": "code",
   "execution_count": 10,
   "id": "38b455d8",
   "metadata": {},
   "outputs": [],
   "source": [
    "targetName = [\"target\"]\n",
    "y = sms[targetName]\n",
    "X = sms[\"message\"]\n",
    "X_train, X_test, y_train, y_test = train_test_split(X, y, test_size = 0.2,\n",
    "                                                    random_state = 123, stratify = y)"
   ]
  },
  {
   "cell_type": "markdown",
   "id": "bba36429",
   "metadata": {},
   "source": [
    "Next steps are:\n",
    "- Making an instance for the vectorizer\n",
    "- Producing the document-tocken matrix in one-step (for the train data)\n",
    "- Transforming the testing data using fitted vocabulary into a document-tocken matrix"
   ]
  },
  {
   "cell_type": "code",
   "execution_count": 11,
   "id": "016e7b9c",
   "metadata": {},
   "outputs": [],
   "source": [
    "CV1 = CountVectorizer()\n",
    "X_train_dtm = CV1.fit_transform(X_train)\n",
    "X_test_dtm = CV1.transform(X_test)"
   ]
  },
  {
   "cell_type": "code",
   "execution_count": 12,
   "id": "5db415e1",
   "metadata": {},
   "outputs": [
    {
     "data": {
      "text/plain": [
       "(4457, 7778)"
      ]
     },
     "execution_count": 12,
     "metadata": {},
     "output_type": "execute_result"
    }
   ],
   "source": [
    "X_train_dtm.shape"
   ]
  },
  {
   "cell_type": "code",
   "execution_count": 13,
   "id": "f019792a",
   "metadata": {},
   "outputs": [
    {
     "data": {
      "text/plain": [
       "(1115, 7778)"
      ]
     },
     "execution_count": 13,
     "metadata": {},
     "output_type": "execute_result"
    }
   ],
   "source": [
    "X_test_dtm.shape"
   ]
  },
  {
   "cell_type": "markdown",
   "id": "7ddd76e6",
   "metadata": {},
   "source": [
    "**Defining a function to print the confusion matrix:**"
   ]
  },
  {
   "cell_type": "code",
   "execution_count": 14,
   "id": "6aa4bd3c",
   "metadata": {},
   "outputs": [],
   "source": [
    "def printMatrix(CM, labels = [\"ham\", \"spam\"]):\n",
    "    df = pd.DataFrame(data = CM, columns = labels, index = labels)\n",
    "    df.index.name = \"TRUE\"\n",
    "    df.columns.name = \"PREDICTION\"\n",
    "    df.loc[\"Total\"] = df.sum()\n",
    "    df[\"Total\"] = df.sum(axis = 1)\n",
    "    return df"
   ]
  },
  {
   "cell_type": "markdown",
   "id": "b83cef94",
   "metadata": {},
   "source": [
    "## Building the classifier"
   ]
  },
  {
   "cell_type": "markdown",
   "id": "d8b7f3d0",
   "metadata": {},
   "source": [
    "#### Multinomial Naive Bayes classifier\n",
    "The multinomial Naive Bayes classifier is suitable for classification with discrete features(e.g., word counts for text classification)."
   ]
  },
  {
   "cell_type": "code",
   "execution_count": 15,
   "id": "d13eef6f",
   "metadata": {
    "scrolled": true
   },
   "outputs": [
    {
     "name": "stdout",
     "output_type": "stream",
     "text": [
      "Accuracy is  98.7\n",
      "Precision is  97.2\n"
     ]
    },
    {
     "name": "stderr",
     "output_type": "stream",
     "text": [
      "C:\\Users\\tohid\\AppData\\Roaming\\Python\\Python38\\site-packages\\sklearn\\utils\\validation.py:63: DataConversionWarning: A column-vector y was passed when a 1d array was expected. Please change the shape of y to (n_samples, ), for example using ravel().\n",
      "  return f(*args, **kwargs)\n"
     ]
    }
   ],
   "source": [
    "MNB = MultinomialNB()\n",
    "MNB.fit(X_train_dtm, y_train)\n",
    "y_pred_test = MNB.predict(X_test_dtm)\n",
    "\n",
    "accuracy = 100 * round(accuracy_score(y_pred = y_pred_test, y_true = y_test), 3)\n",
    "precision = 100 * round(precision_score(y_pred = y_pred_test, y_true = y_test), 3)\n",
    "print(\"Accuracy is \", accuracy)\n",
    "print(\"Precision is \", precision)"
   ]
  },
  {
   "cell_type": "code",
   "execution_count": 16,
   "id": "109edeb4",
   "metadata": {},
   "outputs": [
    {
     "data": {
      "text/html": [
       "<div>\n",
       "<style scoped>\n",
       "    .dataframe tbody tr th:only-of-type {\n",
       "        vertical-align: middle;\n",
       "    }\n",
       "\n",
       "    .dataframe tbody tr th {\n",
       "        vertical-align: top;\n",
       "    }\n",
       "\n",
       "    .dataframe thead th {\n",
       "        text-align: right;\n",
       "    }\n",
       "</style>\n",
       "<table border=\"1\" class=\"dataframe\">\n",
       "  <thead>\n",
       "    <tr style=\"text-align: right;\">\n",
       "      <th>PREDICTION</th>\n",
       "      <th>ham</th>\n",
       "      <th>spam</th>\n",
       "      <th>Total</th>\n",
       "    </tr>\n",
       "    <tr>\n",
       "      <th>TRUE</th>\n",
       "      <th></th>\n",
       "      <th></th>\n",
       "      <th></th>\n",
       "    </tr>\n",
       "  </thead>\n",
       "  <tbody>\n",
       "    <tr>\n",
       "      <th>ham</th>\n",
       "      <td>962</td>\n",
       "      <td>4</td>\n",
       "      <td>966</td>\n",
       "    </tr>\n",
       "    <tr>\n",
       "      <th>spam</th>\n",
       "      <td>10</td>\n",
       "      <td>139</td>\n",
       "      <td>149</td>\n",
       "    </tr>\n",
       "    <tr>\n",
       "      <th>Total</th>\n",
       "      <td>972</td>\n",
       "      <td>143</td>\n",
       "      <td>1115</td>\n",
       "    </tr>\n",
       "  </tbody>\n",
       "</table>\n",
       "</div>"
      ],
      "text/plain": [
       "PREDICTION  ham  spam  Total\n",
       "TRUE                        \n",
       "ham         962     4    966\n",
       "spam         10   139    149\n",
       "Total       972   143   1115"
      ]
     },
     "execution_count": 16,
     "metadata": {},
     "output_type": "execute_result"
    }
   ],
   "source": [
    "CM = confusion_matrix(y_pred = y_pred_test, y_true = y_test)\n",
    "printMatrix(CM)"
   ]
  },
  {
   "cell_type": "markdown",
   "id": "2f947226",
   "metadata": {},
   "source": [
    "#### Insight:\n",
    "- **precision** means: the proportion of cases that our predictions are correct when we predict spam\n",
    "- **Accuracy** means: how well our classifier works, overally. \n",
    "- We have a 98.7 percent of accuracy, which is very good, and as you can see from the confusion matrix when we predicted a spam we were wrong just 5 time, just in 5 occasions our classifier made mistake. This also yeilds a high precision level."
   ]
  },
  {
   "cell_type": "markdown",
   "id": "2fbde081",
   "metadata": {},
   "source": [
    "## Making prediction"
   ]
  },
  {
   "cell_type": "markdown",
   "id": "5c2e8050",
   "metadata": {},
   "source": [
    "**Lets predict the class for the following sms:**\n",
    "1. \"Today is your lucky day! claim $100 of free gas now! just text back saying YES.\"\n",
    "2. \"I have been calling you all day, r u comming back before dinner?\""
   ]
  },
  {
   "cell_type": "markdown",
   "id": "0ac87cec",
   "metadata": {},
   "source": [
    "A function tp accepets a string containing a text message and classifies it into spam or ham"
   ]
  },
  {
   "cell_type": "code",
   "execution_count": 17,
   "id": "3db19e0e",
   "metadata": {},
   "outputs": [],
   "source": [
    "def spam_filter(text):\n",
    "    text1 = CV1.transform([text])\n",
    "    pred = MNB.predict(text1)[0]\n",
    "    print(\"Text Message:\", text)\n",
    "    if pred:\n",
    "        return \"Type of the message: Spam\"\n",
    "    else:\n",
    "        return \"Type of the message: Ham\""
   ]
  },
  {
   "cell_type": "code",
   "execution_count": 18,
   "id": "6a26fbfd",
   "metadata": {},
   "outputs": [],
   "source": [
    "sms1 = \"Today is your lucky day. You win 100 $\"\n",
    "sms2 = \"I want to go to school\""
   ]
  },
  {
   "cell_type": "code",
   "execution_count": 19,
   "id": "0cece386",
   "metadata": {
    "scrolled": true
   },
   "outputs": [
    {
     "name": "stdout",
     "output_type": "stream",
     "text": [
      "Text Message: Today is your lucky day. You win 100 $\n"
     ]
    },
    {
     "data": {
      "text/plain": [
       "'Type of the message: Spam'"
      ]
     },
     "execution_count": 19,
     "metadata": {},
     "output_type": "execute_result"
    }
   ],
   "source": [
    "spam_filter(sms1)"
   ]
  },
  {
   "cell_type": "code",
   "execution_count": 20,
   "id": "dcf9bd99",
   "metadata": {},
   "outputs": [
    {
     "name": "stdout",
     "output_type": "stream",
     "text": [
      "Text Message: I want to go to school\n"
     ]
    },
    {
     "data": {
      "text/plain": [
       "'Type of the message: Ham'"
      ]
     },
     "execution_count": 20,
     "metadata": {},
     "output_type": "execute_result"
    }
   ],
   "source": [
    "spam_filter(sms2)"
   ]
  }
 ],
 "metadata": {
  "kernelspec": {
   "display_name": "Python 3 (ipykernel)",
   "language": "python",
   "name": "python3"
  },
  "language_info": {
   "codemirror_mode": {
    "name": "ipython",
    "version": 3
   },
   "file_extension": ".py",
   "mimetype": "text/x-python",
   "name": "python",
   "nbconvert_exporter": "python",
   "pygments_lexer": "ipython3",
   "version": "3.8.11"
  }
 },
 "nbformat": 4,
 "nbformat_minor": 5
}
